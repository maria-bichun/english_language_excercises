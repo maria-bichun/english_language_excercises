{
  "nbformat": 4,
  "nbformat_minor": 0,
  "metadata": {
    "colab": {
      "provenance": []
    },
    "kernelspec": {
      "name": "python3",
      "display_name": "Python 3"
    },
    "language_info": {
      "name": "python"
    }
  },
  "cells": [
    {
      "cell_type": "code",
      "execution_count": null,
      "metadata": {
        "colab": {
          "base_uri": "https://localhost:8080/"
        },
        "id": "ufbv-fuw26iv",
        "outputId": "76fd018b-cbf1-4a3a-b477-7ea39ede62bd"
      },
      "outputs": [
        {
          "output_type": "stream",
          "name": "stdout",
          "text": [
            "Requirement already satisfied: pyinflect in /usr/local/lib/python3.10/dist-packages (0.5.1)\n"
          ]
        }
      ],
      "source": [
        "import pandas as pd\n",
        "\n",
        "FILENAME = 'red_cap.txt'\n",
        "\n",
        "# read file into str\n",
        "with open(FILENAME) as f:\n",
        "    plaintext = f.read()\n",
        "\n",
        "!pip install pyinflect"
      ]
    },
    {
      "cell_type": "code",
      "source": [
        "from english_excerciser import EnglishExcerciser"
      ],
      "metadata": {
        "id": "BDG7bpwM6dWv"
      },
      "execution_count": null,
      "outputs": []
    },
    {
      "cell_type": "code",
      "source": [
        "ee = EnglishExcerciser(plaintext)"
      ],
      "metadata": {
        "id": "V8jiKxbV6ijO"
      },
      "execution_count": null,
      "outputs": []
    },
    {
      "cell_type": "code",
      "source": [
        "past = ee.get_past_tenses_excercises()\n",
        "for ex in past:\n",
        "  print(ex['sentence'])\n",
        "  print(ex['options'])\n",
        "  print(ex['answers'])\n",
        "  print()"
      ],
      "metadata": {
        "colab": {
          "base_uri": "https://localhost:8080/"
        },
        "id": "OvvgnBpR_47g",
        "outputId": "2c6659a9-c6cc-46fa-b3be-73e85c117d75"
      },
      "execution_count": null,
      "outputs": [
        {
          "output_type": "stream",
          "name": "stdout",
          "text": [
            "The grandmother _____ the cake and _____ the wine that Little Red Cap _____ .\n",
            "[['ate', 'was eating', 'had eaten'], ['had drunk', 'drank', 'was drinking'], ['brought', 'was bringing', 'had brought']]\n",
            "['ate', 'drank', 'had brought']\n",
            "\n",
            "As soon as the wolf _____ this tasty bite, he _____ back into bed, _____ asleep, and _____ to snore very loudly.\n",
            "[['had finished', 'finished', 'was finishing'], ['climbed', 'had climbed', 'was climbing'], ['fell', 'had fallen', 'was falling'], ['had begun', 'was beginning', 'began']]\n",
            "['had finished', 'climbed', 'fell', 'began']\n",
            "\n",
            "She _____ her that she _____ the wolf, and that he _____ her a good day, but _____ at her in a wicked manner. \"\n",
            "[['was telling', 'had told', 'told'], ['saw', 'had seen', 'was seeing'], ['was wishing', 'had wished', 'wished'], ['stared', 'had stared', 'was staring']]\n",
            "['told', 'had seen', 'had wished', 'had stared']\n",
            "\n",
            "The wolf _____ to himself, \"Now there is a tasty bite for me.\n",
            "[['thought', 'was thinking', 'had thought']]\n",
            "['thought']\n",
            "\n",
            "Grandmother _____ there with her cap _____ down over her face and looking very strange.\n",
            "[['was lying', 'had lain', 'lay'], ['was pulling', 'had pulled', 'pulled']]\n",
            "['was lying', 'pulled']\n",
            "\n",
            "\"Just press the latch,\" _____ out the grandmother. \"\n",
            "[['had called', 'called', 'was calling']]\n",
            "['called']\n",
            "\n"
          ]
        }
      ]
    },
    {
      "cell_type": "code",
      "source": [
        "voice = ee.get_active_passive_excercises()\n",
        "for ex in voice:\n",
        "  print(ex['sentence'])\n",
        "  print(ex['options'])\n",
        "  print(ex['answers'])\n",
        "  print()"
      ],
      "metadata": {
        "colab": {
          "base_uri": "https://localhost:8080/"
        },
        "id": "TUOf567ITeTh",
        "outputId": "b4ab728b-dfc1-46e6-d7ee-568dea8f3e5c"
      },
      "execution_count": null,
      "outputs": [
        {
          "output_type": "stream",
          "name": "stdout",
          "text": [
            "Then he _____ her clothes, _____ them on, and _____ her cap on his head.\n",
            "[['took', 'was taken'], ['put', 'was put'], ['put', 'was put']]\n",
            "['took', 'put', 'put']\n",
            "\n",
            "So he _____ a pair of scissors and _____ open his belly.\n",
            "[['was taken', 'took'], ['cut', 'was cut']]\n",
            "['took', 'cut']\n",
            "\n",
            "Because it _____ her so well, and she _____ to wear it all the time, she _____ to _____ as Little Red Cap.\n",
            "[['suited', 'was suited'], ['wanted', 'was wanted'], ['was come', 'came'], ['be known', 'knew']]\n",
            "['suited', 'wanted', 'came', 'be known']\n",
            "\n",
            "Everyone who _____ her _____ her, but most of all her grandmother, who _____ not know what to give the child next.\n",
            "[['was seen', 'saw'], ['was liked', 'liked'], ['was done', 'did']]\n",
            "['saw', 'liked', 'did']\n",
            "\n",
            "I won't shoot him,\" _____ the huntsman.\n",
            "[['thought', 'was thought']]\n",
            "['thought']\n",
            "\n",
            "He has eaten the grandmother, but perhaps she still can _____ .\n",
            "[['saved', 'be saved']]\n",
            "['be saved']\n",
            "\n"
          ]
        }
      ]
    },
    {
      "cell_type": "code",
      "source": [
        "be = ee.get_be_excercises()\n",
        "for ex in be:\n",
        "  print(ex['sentence'])\n",
        "  print(ex['options'])\n",
        "  print(ex['answers'])\n",
        "  print()"
      ],
      "metadata": {
        "colab": {
          "base_uri": "https://localhost:8080/"
        },
        "id": "807mcB4jTp5Z",
        "outputId": "b37feccf-9f3f-430d-8932-28005a3aa41d"
      },
      "execution_count": null,
      "outputs": [
        {
          "output_type": "stream",
          "name": "stdout",
          "text": [
            "He stepped inside, and in the bed there lay the wolf that he had _____ hunting for such a long time. \"\n",
            "[]\n",
            "['been']\n",
            "\n",
            "They filled the wolf's body with them, and when he woke up and tried to run away, the stones _____ so heavy that he fell down dead.\n",
            "[]\n",
            "['were']\n",
            "\n",
            "Just how _____ you going to catch her?\"\n",
            "[]\n",
            "['are']\n",
            "\n",
            "She walked into the parlor, and everything looked so strange that she thought, \"Oh, my God, why _____ I so afraid?\n",
            "[]\n",
            "['am']\n",
            "\n",
            "Little Red Cap opened her eyes and saw the sunlight breaking through the trees and how the ground _____ covered with beautiful flowers.\n",
            "[]\n",
            "['was']\n",
            "\n",
            "Once upon a time there _____ a sweet little girl.\n",
            "[]\n",
            "['was']\n",
            "\n"
          ]
        }
      ]
    },
    {
      "cell_type": "code",
      "source": [
        "prep = ee.get_prep_excercises()\n",
        "for ex in prep:\n",
        "  print(ex['sentence'])\n",
        "  print(ex['options'])\n",
        "  print(ex['answers'])\n",
        "  print()"
      ],
      "metadata": {
        "colab": {
          "base_uri": "https://localhost:8080/"
        },
        "id": "BVEgF_RoTx3Q",
        "outputId": "29d380a6-0b4a-48ba-dc65-77c7a543659e"
      },
      "execution_count": null,
      "outputs": [
        {
          "output_type": "stream",
          "name": "stdout",
          "text": [
            "And Little Red Cap thought _____ herself, \"As long as I live, I will never leave the path and run off into the woods by myself if mother tells me not to.\"\n",
            "[]\n",
            "['to']\n",
            "\n",
            "I usually like it _____ grandmother's.\"\n",
            "[]\n",
            "['at']\n",
            "\n",
            "They also tell how Little Red Cap was taking some baked things _____ her grandmother another time, when another wolf spoke _____ her and wanted her to leave the path.\n",
            "[]\n",
            "['to', 'to']\n",
            "\n",
            "If we hadn't been _____ a public road, he would have eaten me up,\" she said.\n",
            "[]\n",
            "['on']\n",
            "\n",
            "The smell _____ sausage arose into the wolf's nose.\n",
            "[]\n",
            "['of']\n",
            "\n",
            "It is very beautiful _____ the woods.\"\n",
            "[]\n",
            "['in']\n",
            "\n"
          ]
        }
      ]
    },
    {
      "cell_type": "code",
      "source": [
        "vocab = ee.get_vocab_selection_excercises()\n",
        "for ex in vocab:\n",
        "  print(ex['sentence'])\n",
        "  print(ex['options'])\n",
        "  print(ex['answers'])\n",
        "  print()"
      ],
      "metadata": {
        "colab": {
          "base_uri": "https://localhost:8080/"
        },
        "id": "nRZ_hz71T4MI",
        "outputId": "407d0a32-25c9-4766-80d0-66e2112f31b1"
      },
      "execution_count": null,
      "outputs": [
        {
          "output_type": "stream",
          "name": "stdout",
          "text": [
            "\"All the better to _____ you with!\"\n",
            "[['drink', 'eat', 'enjoy']]\n",
            "eat\n",
            "\n",
            "\"Her _____ is a good quarter hour from here in the woods, under the three large oak trees.\n",
            "[['house', 'home', 'room']]\n",
            "house\n",
            "\n",
            "You are _____ along as though you were on your way to school in the village.\n",
            "[['watching', 'sleeping', 'walking']]\n",
            "walking\n",
            "\n",
            "Mind your _____ and give her my greetings.\n",
            "[['modesty', 'manners', 'morality']]\n",
            "manners\n",
            "\n",
            "He slid off the _____ , fell into the trough, and drowned.\n",
            "[['roof', 'floor', 'window']]\n",
            "roof\n",
            "\n",
            "They remained _____ , and did not open the door.\n",
            "[['silent', 'happy', 'quiet']]\n",
            "silent\n",
            "\n"
          ]
        }
      ]
    },
    {
      "cell_type": "code",
      "source": [
        "import json\n",
        "\n",
        "with open(\"past.json\", \"w\") as final:\n",
        "   json.dump(past, final)"
      ],
      "metadata": {
        "id": "0vpRjuAy8n6S"
      },
      "execution_count": null,
      "outputs": []
    },
    {
      "cell_type": "code",
      "source": [
        "with open(\"past.json\") as json_file :\n",
        "  data = json.load(json_file)\n",
        "print(data)"
      ],
      "metadata": {
        "colab": {
          "base_uri": "https://localhost:8080/"
        },
        "id": "G8MaNnS7-YCb",
        "outputId": "05d7ac4d-7493-486c-ab38-1dd9db5e52e9"
      },
      "execution_count": null,
      "outputs": [
        {
          "output_type": "stream",
          "name": "stdout",
          "text": [
            "[{'sentence': 'The grandmother _____ the cake and _____ the wine that Little Red Cap _____ .', 'options': [['ate', 'was eating', 'had eaten'], ['had drunk', 'drank', 'was drinking'], ['brought', 'was bringing', 'had brought']], 'answers': ['ate', 'drank', 'had brought'], 'result': ['', '', ''], 'total': 0}, {'sentence': 'As soon as the wolf _____ this tasty bite, he _____ back into bed, _____ asleep, and _____ to snore very loudly.', 'options': [['had finished', 'finished', 'was finishing'], ['climbed', 'had climbed', 'was climbing'], ['fell', 'had fallen', 'was falling'], ['had begun', 'was beginning', 'began']], 'answers': ['had finished', 'climbed', 'fell', 'began'], 'result': ['', '', '', ''], 'total': 0}, {'sentence': 'She _____ her that she _____ the wolf, and that he _____ her a good day, but _____ at her in a wicked manner. \"', 'options': [['was telling', 'had told', 'told'], ['saw', 'had seen', 'was seeing'], ['was wishing', 'had wished', 'wished'], ['stared', 'had stared', 'was staring']], 'answers': ['told', 'had seen', 'had wished', 'had stared'], 'result': ['', '', '', ''], 'total': 0}, {'sentence': 'The wolf _____ to himself, \"Now there is a tasty bite for me.', 'options': [['thought', 'was thinking', 'had thought']], 'answers': ['thought'], 'result': [''], 'total': 0}, {'sentence': 'Grandmother _____ there with her cap _____ down over her face and looking very strange.', 'options': [['was lying', 'had lain', 'lay'], ['was pulling', 'had pulled', 'pulled']], 'answers': ['was lying', 'pulled'], 'result': ['', ''], 'total': 0}, {'sentence': '\"Just press the latch,\" _____ out the grandmother. \"', 'options': [['had called', 'called', 'was calling']], 'answers': ['called'], 'result': [''], 'total': 0}]\n"
          ]
        }
      ]
    },
    {
      "cell_type": "code",
      "source": [
        "with open(\"prep.json\", \"w\") as final:\n",
        "   json.dump(prep, final)"
      ],
      "metadata": {
        "id": "p_cFOPaN_HTj"
      },
      "execution_count": null,
      "outputs": []
    },
    {
      "cell_type": "code",
      "source": [],
      "metadata": {
        "id": "vVONoK4IE-YG"
      },
      "execution_count": null,
      "outputs": []
    }
  ]
}